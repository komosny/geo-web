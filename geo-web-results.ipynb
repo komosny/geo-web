{
 "cells": [
  {
   "cell_type": "code",
   "execution_count": 1,
   "metadata": {
    "editable": true,
    "slideshow": {
     "slide_type": ""
    },
    "tags": []
   },
   "outputs": [
    {
     "name": "stdout",
     "output_type": "stream",
     "text": [
      "Python 3.12.4\n"
     ]
    }
   ],
   "source": [
    "# developed in Python 3\n",
    "!python --version"
   ]
  },
  {
   "cell_type": "markdown",
   "metadata": {
    "cell_id": "62e3218e5e6e4008b238221d674d7ee8",
    "deepnote_cell_type": "code",
    "deepnote_to_be_reexecuted": false,
    "execution_millis": 5,
    "execution_start": 1688035111452,
    "output_cleared": false,
    "source_hash": "90e4aabe"
   },
   "source": [
    "# Options"
   ]
  },
  {
   "cell_type": "code",
   "execution_count": 2,
   "metadata": {
    "cell_id": "62e3218e5e6e4008b238221d674d7ee8",
    "deepnote_cell_type": "code",
    "deepnote_to_be_reexecuted": false,
    "execution_millis": 5,
    "execution_start": 1688035111452,
    "output_cleared": false,
    "source_hash": "90e4aabe"
   },
   "outputs": [],
   "source": [
    "# country ISO A2 code\n",
    "COUNTRY = 'FR'"
   ]
  },
  {
   "cell_type": "code",
   "execution_count": 3,
   "metadata": {},
   "outputs": [],
   "source": [
    "# optional cache for functions\n",
    "CACHE_ENABLED = True"
   ]
  },
  {
   "cell_type": "markdown",
   "metadata": {
    "cell_id": "8bb0842309584785b6965be73f67b346",
    "deepnote_cell_type": "markdown"
   },
   "source": [
    "# Initialization"
   ]
  },
  {
   "cell_type": "code",
   "execution_count": 4,
   "metadata": {
    "scrolled": true
   },
   "outputs": [
    {
     "name": "stdout",
     "output_type": "stream",
     "text": [
      "Requirement already satisfied: ptyprocess>=0.5 in /home/komosny/Dokumenty/01_develop/__PYTHON_312/lib64/python3.12/site-packages (from pexpect>4.3->ipython==8.12.3->-r requirements.txt (line 6)) (0.7.0)\n",
      "Requirement already satisfied: wcwidth in /home/komosny/Dokumenty/01_develop/__PYTHON_312/lib64/python3.12/site-packages (from prompt-toolkit!=3.0.37,<3.1.0,>=3.0.30->ipython==8.12.3->-r requirements.txt (line 6)) (0.2.13)\n",
      "Requirement already satisfied: executing>=1.2.0 in /home/komosny/Dokumenty/01_develop/__PYTHON_312/lib64/python3.12/site-packages (from stack-data->ipython==8.12.3->-r requirements.txt (line 6)) (2.0.1)\n",
      "Requirement already satisfied: asttokens>=2.1.0 in /home/komosny/Dokumenty/01_develop/__PYTHON_312/lib64/python3.12/site-packages (from stack-data->ipython==8.12.3->-r requirements.txt (line 6)) (2.4.1)\n",
      "Requirement already satisfied: pure-eval in /home/komosny/Dokumenty/01_develop/__PYTHON_312/lib64/python3.12/site-packages (from stack-data->ipython==8.12.3->-r requirements.txt (line 6)) (0.2.3)\n"
     ]
    }
   ],
   "source": [
    "# these modules are used in \n",
    "# geo-web-method geo-web-demo geo-web-results\n",
    "!pip install -r requirements.txt --disable-pip-version-check | tail -n 5"
   ]
  },
  {
   "cell_type": "code",
   "execution_count": 5,
   "metadata": {
    "cell_id": "a3cd621ce66c4094add0d8f110b72885",
    "deepnote_cell_type": "code",
    "deepnote_to_be_reexecuted": false,
    "execution_millis": 1615,
    "execution_start": 1688035111453,
    "output_cleared": false,
    "source_hash": "c29dba72",
    "tags": []
   },
   "outputs": [],
   "source": [
    "import json,copy,random,operator,sys,os,re\n",
    "\n",
    "import numpy as np\n",
    "import pandas as pd\n",
    "import shapely as sh\n",
    "import humanize as hm\n",
    "import geopandas as gpd\n",
    "import matplotlib.pyplot as plt\n",
    "\n",
    "import geonamescache as gn\n",
    "gn_cache = gn.GeonamesCache()\n",
    "\n",
    "import folium\n",
    "from IPython.display import HTML\n",
    "\n",
    "import requests\n",
    "from bs4 import BeautifulSoup\n",
    "\n",
    "from requests_ratelimiter import LimiterSession\n",
    "session = LimiterSession(per_second=1)\n",
    "session.headers.update({'User-Agent': 'geo-web','email':'utko@vut.cz'})\n",
    "\n",
    "from tqdm import tqdm\n",
    "tqdm.pandas(file=sys.stdout,ncols=100)\n",
    "\n",
    "from joblib import Memory\n",
    "memory = Memory(location=f'__CACHE/{COUNTRY}' if CACHE_ENABLED else None,verbose=0)"
   ]
  },
  {
   "cell_type": "markdown",
   "metadata": {
    "cell_id": "25b2bb0891b7451b8a91c15ddfad01e6",
    "deepnote_cell_type": "markdown",
    "tags": []
   },
   "source": [
    "# Functions"
   ]
  },
  {
   "cell_type": "code",
   "execution_count": 6,
   "metadata": {
    "cell_id": "63f94550ccfb4ff78ae64ceb11c38f5d",
    "deepnote_cell_type": "code",
    "deepnote_to_be_reexecuted": false,
    "execution_millis": 6,
    "execution_start": 1688035114393,
    "output_cleared": false,
    "source_hash": "3c358858",
    "tags": []
   },
   "outputs": [
    {
     "data": {
      "text/plain": [
       "{'domain': 'www.overleaf.com',\n",
       " 'path': 'user/subscription/plans',\n",
       " 'root': 'overleaf.com'}"
      ]
     },
     "execution_count": 6,
     "metadata": {},
     "output_type": "execute_result"
    }
   ],
   "source": [
    "def parse_url(url):\n",
    "    '''\n",
    "    Parses domain, root domain, and endpath from URL\n",
    "    \n",
    "    Verifies URL to be valid\n",
    "\n",
    "    :param str url: url to parse\n",
    "    :return: domain, path, root domain\n",
    "    :rtype: dict\n",
    "    '''\n",
    "    \n",
    "    # remove protocol\n",
    "    url = url.removeprefix('https://')\n",
    "    url = url.removeprefix('http://')\n",
    "\n",
    "    domain = pd.NA; path = pd.NA; root = pd.NA\n",
    "\n",
    "    # domain and path\n",
    "    parsed = url.split('/',1)     \n",
    "    domain = parsed[0]\n",
    "\n",
    "    # allowed chars alpha, numbers and .-\n",
    "    if ('.' not in domain or \n",
    "        not domain.replace('.','').replace('-','').isalnum()): \n",
    "        \n",
    "        domain = pd.NA\n",
    "        \n",
    "    if pd.notna(domain) and len(parsed) == 2:  \n",
    "        path = parsed[1]\n",
    "        if path == '': path = pd.NA\n",
    "\n",
    "    # other domain levels\n",
    "    if pd.notna(domain):\n",
    "        parsed = domain.rsplit('.',2)[-2:]\n",
    "        root = '.'.join(parsed)\n",
    "\n",
    "    return {'domain':domain,'path':path,'root':root}\n",
    "    \n",
    "assert parse_url(url= 'https://www.overleaf.com/user/subscription/plans') == {\n",
    "    'domain': 'www.overleaf.com', 'path': 'user/subscription/plans',\n",
    "    'root': 'overleaf.com'}\n",
    "\n",
    "parse_url(url= 'https://www.overleaf.com/user/subscription/plans')"
   ]
  },
  {
   "cell_type": "code",
   "execution_count": 7,
   "metadata": {},
   "outputs": [],
   "source": [
    "def frame_info(frame,samples=5):\n",
    "\n",
    "    size = len(frame)  \n",
    "    \n",
    "    frame_sample = frame.sample(min(samples,size))\n",
    "    display(frame_sample)\n",
    "\n",
    "    mem = frame.memory_usage(deep=True).sum()\n",
    "    \n",
    "    print(f'Size {size}, Memory {hm.naturalsize(mem)}')\n",
    "    print(frame.dtypes)\n",
    "\n",
    "    return"
   ]
  },
  {
   "cell_type": "markdown",
   "metadata": {
    "cell_id": "7827bf48836d4509902314cd48a00036",
    "deepnote_cell_type": "markdown"
   },
   "source": [
    "# GeoWeb description"
   ]
  },
  {
   "cell_type": "markdown",
   "metadata": {},
   "source": [
    "## Load data"
   ]
  },
  {
   "cell_type": "code",
   "execution_count": 8,
   "metadata": {},
   "outputs": [
    {
     "data": {
      "text/html": [
       "<div>\n",
       "<style scoped>\n",
       "    .dataframe tbody tr th:only-of-type {\n",
       "        vertical-align: middle;\n",
       "    }\n",
       "\n",
       "    .dataframe tbody tr th {\n",
       "        vertical-align: top;\n",
       "    }\n",
       "\n",
       "    .dataframe thead th {\n",
       "        text-align: right;\n",
       "    }\n",
       "</style>\n",
       "<table border=\"1\" class=\"dataframe\">\n",
       "  <thead>\n",
       "    <tr style=\"text-align: right;\">\n",
       "      <th></th>\n",
       "      <th>web</th>\n",
       "      <th>lat</th>\n",
       "      <th>lon</th>\n",
       "      <th>city</th>\n",
       "      <th>country</th>\n",
       "      <th>online</th>\n",
       "    </tr>\n",
       "  </thead>\n",
       "  <tbody>\n",
       "    <tr>\n",
       "      <th>391851</th>\n",
       "      <td>http://www.maison-souffrance-et-travail-78.fr/...</td>\n",
       "      <td>48.9304688</td>\n",
       "      <td>2.0469782</td>\n",
       "      <td>Poissy</td>\n",
       "      <td>FR</td>\n",
       "      <td>20230402024454</td>\n",
       "    </tr>\n",
       "    <tr>\n",
       "      <th>516960</th>\n",
       "      <td>https://ecoleboisard.com/index.php/actualites</td>\n",
       "      <td>45.7549601</td>\n",
       "      <td>4.9339600</td>\n",
       "      <td>Vaulx-en-Velin</td>\n",
       "      <td>FR</td>\n",
       "      <td>20230528224719</td>\n",
       "    </tr>\n",
       "    <tr>\n",
       "      <th>365297</th>\n",
       "      <td>http://www.regieparis14.org/solidarites-locale...</td>\n",
       "      <td>48.8259512</td>\n",
       "      <td>2.3081956</td>\n",
       "      <td>Paris</td>\n",
       "      <td>FR</td>\n",
       "      <td>20230326024417</td>\n",
       "    </tr>\n",
       "    <tr>\n",
       "      <th>30194</th>\n",
       "      <td>https://www.albert-andco.com/bureau-le-salon/</td>\n",
       "      <td>50.2854482</td>\n",
       "      <td>2.7752991</td>\n",
       "      <td>Arras</td>\n",
       "      <td>FR</td>\n",
       "      <td>20230321081326</td>\n",
       "    </tr>\n",
       "    <tr>\n",
       "      <th>136883</th>\n",
       "      <td>https://www.aumetscliche.com/menus/</td>\n",
       "      <td>45.1913463</td>\n",
       "      <td>5.7323032</td>\n",
       "      <td>Grenoble</td>\n",
       "      <td>FR</td>\n",
       "      <td>20230131194520</td>\n",
       "    </tr>\n",
       "  </tbody>\n",
       "</table>\n",
       "</div>"
      ],
      "text/plain": [
       "                                                      web         lat  \\\n",
       "391851  http://www.maison-souffrance-et-travail-78.fr/...  48.9304688   \n",
       "516960      https://ecoleboisard.com/index.php/actualites  45.7549601   \n",
       "365297  http://www.regieparis14.org/solidarites-locale...  48.8259512   \n",
       "30194       https://www.albert-andco.com/bureau-le-salon/  50.2854482   \n",
       "136883                https://www.aumetscliche.com/menus/  45.1913463   \n",
       "\n",
       "              lon            city country          online  \n",
       "391851  2.0469782          Poissy      FR  20230402024454  \n",
       "516960  4.9339600  Vaulx-en-Velin      FR  20230528224719  \n",
       "365297  2.3081956           Paris      FR  20230326024417  \n",
       "30194   2.7752991           Arras      FR  20230321081326  \n",
       "136883  5.7323032        Grenoble      FR  20230131194520  "
      ]
     },
     "metadata": {},
     "output_type": "display_data"
    },
    {
     "name": "stdout",
     "output_type": "stream",
     "text": [
      "Size 542551, Memory 68.1 MB\n",
      "web        string[pyarrow]\n",
      "lat        string[pyarrow]\n",
      "lon        string[pyarrow]\n",
      "city              category\n",
      "country           category\n",
      "online     string[pyarrow]\n",
      "dtype: object\n"
     ]
    }
   ],
   "source": [
    "data = pd.read_parquet(f'geo-web-results/geo-web-{COUNTRY}.parquet')\n",
    "\n",
    "# memory\n",
    "data = data.astype({\n",
    "    'web': pd.StringDtype('pyarrow'),\n",
    "    'online': pd.StringDtype('pyarrow'),\n",
    "    'lat': pd.StringDtype('pyarrow'),\n",
    "    'lon': pd.StringDtype('pyarrow')\n",
    "})\n",
    "\n",
    "frame_info(data)"
   ]
  },
  {
   "cell_type": "markdown",
   "metadata": {
    "cell_id": "2cb8d8847a534d7ba679cb2caa1afda5",
    "deepnote_cell_type": "markdown"
   },
   "source": [
    "## Basic stats"
   ]
  },
  {
   "cell_type": "code",
   "execution_count": 9,
   "metadata": {
    "cell_id": "a0bd27c627d34c72bc97613d6dffb2ad",
    "deepnote_cell_type": "code",
    "deepnote_to_be_reexecuted": false,
    "execution_millis": 7776,
    "execution_start": 1688035932783,
    "output_cleared": false,
    "source_hash": "b0e22493"
   },
   "outputs": [
    {
     "name": "stdout",
     "output_type": "stream",
     "text": [
      "Country FR\n",
      "\n",
      "GeoWeb locations 15965\n",
      "\n",
      "GeoWeb webpages 542551\n",
      "\n",
      "GeoWeb cities 556\n",
      "\n",
      "Processing stat for GeoWeb websites\n",
      "100%|███████████████████████████████████████████████████| 542551/542551 [00:02<00:00, 253910.67it/s]\n",
      "\n",
      "GeoWeb domains 23424\n",
      "\n",
      "GeoWeb paths 368656\n",
      "\n",
      "GeoWeb locations per city (top 10)\n",
      "city\n",
      "Paris          2417\n",
      "Lyon            881\n",
      "Toulouse        671\n",
      "Nice            449\n",
      "Nantes          314\n",
      "Rennes          307\n",
      "Bordeaux        269\n",
      "Strasbourg      233\n",
      "Rouen           227\n",
      "Montpellier     169\n",
      "Name: web, dtype: int64\n",
      "\n",
      "GeoWeb webpages per city (top 10)\n",
      "city\n",
      "Paris          86094\n",
      "Lyon           29784\n",
      "Toulouse       21643\n",
      "Nice           14130\n",
      "Rennes         11040\n",
      "Nantes         10898\n",
      "Bordeaux        9154\n",
      "Rouen           7727\n",
      "Strasbourg      7256\n",
      "Montpellier     5551\n",
      "Name: web, dtype: int64\n"
     ]
    }
   ],
   "source": [
    "print(f'Country {COUNTRY}\\n')\n",
    "\n",
    "unique_locs = data.drop_duplicates(subset=['lat', 'lon'])\n",
    "print(f'GeoWeb locations {len(unique_locs)}\\n')\n",
    "\n",
    "print(f'GeoWeb webpages {len(data)}\\n')\n",
    "\n",
    "print(f'GeoWeb cities {data.city.nunique()}\\n')\n",
    "\n",
    "print(f'Processing stat for GeoWeb websites')\n",
    "url_parsed = data.progress_apply(lambda row: parse_url(row.web),axis = 1)\n",
    "url_parsed = pd.DataFrame(url_parsed.tolist())\n",
    "domains = url_parsed.domain.nunique()\n",
    "paths = url_parsed.path.nunique()\n",
    "\n",
    "print()\n",
    "print(f'GeoWeb domains {domains}\\n')\n",
    "print(f'GeoWeb paths {paths}\\n')\n",
    "\n",
    "# top 20 cities\n",
    "print('GeoWeb locations per city (top 10)')\n",
    "print(f'{data.drop_duplicates(subset=['lat', 'lon']).groupby(\n",
    "    'city',observed=True).web.apply(len).sort_values(ascending=False).iloc[0:10]}\\n')\n",
    "\n",
    "print(f'GeoWeb webpages per city (top 10)')\n",
    "print(data.groupby('city',observed=True).web.apply(len).sort_values(ascending=False).iloc[0:10])"
   ]
  },
  {
   "cell_type": "markdown",
   "metadata": {
    "cell_id": "7b91b6a0290d45fa966f8521e5f52160",
    "deepnote_cell_type": "markdown"
   },
   "source": [
    "## Data samples"
   ]
  },
  {
   "cell_type": "code",
   "execution_count": 10,
   "metadata": {},
   "outputs": [],
   "source": [
    "no_samples = 5"
   ]
  },
  {
   "cell_type": "code",
   "execution_count": 11,
   "metadata": {
    "cell_id": "968048ce00a2456bb06e84cf9b16c939",
    "deepnote_cell_type": "code",
    "deepnote_to_be_reexecuted": false,
    "execution_millis": 174,
    "execution_start": 1688035940556,
    "output_cleared": false,
    "source_hash": "53d314ea"
   },
   "outputs": [
    {
     "name": "stdout",
     "output_type": "stream",
     "text": [
      "Sample GeoWeb at locations\n"
     ]
    },
    {
     "data": {
      "text/html": [
       "<div>\n",
       "<style scoped>\n",
       "    .dataframe tbody tr th:only-of-type {\n",
       "        vertical-align: middle;\n",
       "    }\n",
       "\n",
       "    .dataframe tbody tr th {\n",
       "        vertical-align: top;\n",
       "    }\n",
       "\n",
       "    .dataframe thead th {\n",
       "        text-align: right;\n",
       "    }\n",
       "</style>\n",
       "<table border=\"1\" class=\"dataframe\">\n",
       "  <thead>\n",
       "    <tr style=\"text-align: right;\">\n",
       "      <th></th>\n",
       "      <th>web</th>\n",
       "      <th>lat</th>\n",
       "      <th>lon</th>\n",
       "      <th>city</th>\n",
       "      <th>country</th>\n",
       "      <th>online</th>\n",
       "    </tr>\n",
       "  </thead>\n",
       "  <tbody>\n",
       "    <tr>\n",
       "      <th>152368</th>\n",
       "      <td>https://www.hotel-artdecolille.com/en/pagex/ho...</td>\n",
       "      <td>50.6459694</td>\n",
       "      <td>3.0760337</td>\n",
       "      <td>La Madeleine</td>\n",
       "      <td>FR</td>\n",
       "      <td>20230322020506</td>\n",
       "    </tr>\n",
       "    <tr>\n",
       "      <th>388039</th>\n",
       "      <td>https://www.frigeland.fr/</td>\n",
       "      <td>42.6792917</td>\n",
       "      <td>2.8808739</td>\n",
       "      <td>Perpignan</td>\n",
       "      <td>FR</td>\n",
       "      <td>20230127010622</td>\n",
       "    </tr>\n",
       "    <tr>\n",
       "      <th>141402</th>\n",
       "      <td>https://www.bassinaventures.com/ouverture-du-p...</td>\n",
       "      <td>44.6215045</td>\n",
       "      <td>-1.1015335</td>\n",
       "      <td>Gujan-Mestras</td>\n",
       "      <td>FR</td>\n",
       "      <td>20230129144557</td>\n",
       "    </tr>\n",
       "    <tr>\n",
       "      <th>390450</th>\n",
       "      <td>https://www.auto-ecole-carasco.fr/code-en-visio/</td>\n",
       "      <td>44.8082125</td>\n",
       "      <td>-0.6491685</td>\n",
       "      <td>Pessac</td>\n",
       "      <td>FR</td>\n",
       "      <td>20230129161232</td>\n",
       "    </tr>\n",
       "    <tr>\n",
       "      <th>442967</th>\n",
       "      <td>https://www.lechevallier-monteil.fr/entreprise...</td>\n",
       "      <td>49.0992555</td>\n",
       "      <td>-1.0874293</td>\n",
       "      <td>Saint-Lô</td>\n",
       "      <td>FR</td>\n",
       "      <td>20240303085314</td>\n",
       "    </tr>\n",
       "  </tbody>\n",
       "</table>\n",
       "</div>"
      ],
      "text/plain": [
       "                                                      web         lat  \\\n",
       "152368  https://www.hotel-artdecolille.com/en/pagex/ho...  50.6459694   \n",
       "388039                          https://www.frigeland.fr/  42.6792917   \n",
       "141402  https://www.bassinaventures.com/ouverture-du-p...  44.6215045   \n",
       "390450   https://www.auto-ecole-carasco.fr/code-en-visio/  44.8082125   \n",
       "442967  https://www.lechevallier-monteil.fr/entreprise...  49.0992555   \n",
       "\n",
       "               lon           city country          online  \n",
       "152368   3.0760337   La Madeleine      FR  20230322020506  \n",
       "388039   2.8808739      Perpignan      FR  20230127010622  \n",
       "141402  -1.1015335  Gujan-Mestras      FR  20230129144557  \n",
       "390450  -0.6491685         Pessac      FR  20230129161232  \n",
       "442967  -1.0874293       Saint-Lô      FR  20240303085314  "
      ]
     },
     "execution_count": 11,
     "metadata": {},
     "output_type": "execute_result"
    }
   ],
   "source": [
    "print(f'Sample GeoWeb at locations')\n",
    "# sample locs\n",
    "data.sample(frac=1).drop_duplicates(subset='city').drop_duplicates(subset=['lat','lon']).sample(no_samples)"
   ]
  },
  {
   "cell_type": "code",
   "execution_count": 12,
   "metadata": {
    "cell_id": "d29ba7d2aa594ec7976c9817fc6bd0f3",
    "deepnote_cell_type": "code",
    "deepnote_to_be_reexecuted": false,
    "execution_millis": 189,
    "execution_start": 1688035940728,
    "output_cleared": false,
    "source_hash": "60e321ba"
   },
   "outputs": [
    {
     "name": "stdout",
     "output_type": "stream",
     "text": [
      "Sample GeoWeb in city\n"
     ]
    },
    {
     "data": {
      "text/html": [
       "<div>\n",
       "<style scoped>\n",
       "    .dataframe tbody tr th:only-of-type {\n",
       "        vertical-align: middle;\n",
       "    }\n",
       "\n",
       "    .dataframe tbody tr th {\n",
       "        vertical-align: top;\n",
       "    }\n",
       "\n",
       "    .dataframe thead th {\n",
       "        text-align: right;\n",
       "    }\n",
       "</style>\n",
       "<table border=\"1\" class=\"dataframe\">\n",
       "  <thead>\n",
       "    <tr style=\"text-align: right;\">\n",
       "      <th></th>\n",
       "      <th>web</th>\n",
       "      <th>lat</th>\n",
       "      <th>lon</th>\n",
       "      <th>city</th>\n",
       "      <th>country</th>\n",
       "      <th>online</th>\n",
       "    </tr>\n",
       "  </thead>\n",
       "  <tbody>\n",
       "    <tr>\n",
       "      <th>397346</th>\n",
       "      <td>https://www.ateliermba.com/projets/montgenevre...</td>\n",
       "      <td>46.9030355</td>\n",
       "      <td>6.3586626</td>\n",
       "      <td>Pontarlier</td>\n",
       "      <td>FR</td>\n",
       "      <td>20231129094555</td>\n",
       "    </tr>\n",
       "    <tr>\n",
       "      <th>397029</th>\n",
       "      <td>https://profen.fr/Ilot+St+Pierre+-+PONTARLIER+...</td>\n",
       "      <td>46.8984025</td>\n",
       "      <td>6.3419062</td>\n",
       "      <td>Pontarlier</td>\n",
       "      <td>FR</td>\n",
       "      <td>20230328152824</td>\n",
       "    </tr>\n",
       "    <tr>\n",
       "      <th>398227</th>\n",
       "      <td>https://www.kdosports.fr/gift-card</td>\n",
       "      <td>46.9039843</td>\n",
       "      <td>6.3495833</td>\n",
       "      <td>Pontarlier</td>\n",
       "      <td>FR</td>\n",
       "      <td>20230930204436</td>\n",
       "    </tr>\n",
       "    <tr>\n",
       "      <th>398118</th>\n",
       "      <td>https://www.bejsas.com/actualite/</td>\n",
       "      <td>46.9096122</td>\n",
       "      <td>6.3410345</td>\n",
       "      <td>Pontarlier</td>\n",
       "      <td>FR</td>\n",
       "      <td>20230322063902</td>\n",
       "    </tr>\n",
       "    <tr>\n",
       "      <th>397102</th>\n",
       "      <td>https://www.gescorec.com/plan-du-site</td>\n",
       "      <td>46.9023648</td>\n",
       "      <td>6.3476092</td>\n",
       "      <td>Pontarlier</td>\n",
       "      <td>FR</td>\n",
       "      <td>20230606134734</td>\n",
       "    </tr>\n",
       "  </tbody>\n",
       "</table>\n",
       "</div>"
      ],
      "text/plain": [
       "                                                      web         lat  \\\n",
       "397346  https://www.ateliermba.com/projets/montgenevre...  46.9030355   \n",
       "397029  https://profen.fr/Ilot+St+Pierre+-+PONTARLIER+...  46.8984025   \n",
       "398227                 https://www.kdosports.fr/gift-card  46.9039843   \n",
       "398118                  https://www.bejsas.com/actualite/  46.9096122   \n",
       "397102              https://www.gescorec.com/plan-du-site  46.9023648   \n",
       "\n",
       "              lon        city country          online  \n",
       "397346  6.3586626  Pontarlier      FR  20231129094555  \n",
       "397029  6.3419062  Pontarlier      FR  20230328152824  \n",
       "398227  6.3495833  Pontarlier      FR  20230930204436  \n",
       "398118  6.3410345  Pontarlier      FR  20230322063902  \n",
       "397102  6.3476092  Pontarlier      FR  20230606134734  "
      ]
     },
     "execution_count": 12,
     "metadata": {},
     "output_type": "execute_result"
    }
   ],
   "source": [
    "print(f'Sample GeoWeb in city')\n",
    "# sample city\n",
    "city = data.city.sample(1).values[0]\n",
    "data.loc[data.city == city].sample(no_samples)"
   ]
  },
  {
   "cell_type": "code",
   "execution_count": 13,
   "metadata": {
    "cell_id": "8b41ea18328a449284791a394d8f6cab",
    "deepnote_cell_type": "code",
    "deepnote_to_be_reexecuted": false,
    "execution_millis": 173,
    "execution_start": 1688035940918,
    "output_cleared": false,
    "source_hash": "8afa8879"
   },
   "outputs": [
    {
     "name": "stdout",
     "output_type": "stream",
     "text": [
      "Sample GeoWeb in cities (one per city)\n"
     ]
    },
    {
     "data": {
      "text/html": [
       "<div>\n",
       "<style scoped>\n",
       "    .dataframe tbody tr th:only-of-type {\n",
       "        vertical-align: middle;\n",
       "    }\n",
       "\n",
       "    .dataframe tbody tr th {\n",
       "        vertical-align: top;\n",
       "    }\n",
       "\n",
       "    .dataframe thead th {\n",
       "        text-align: right;\n",
       "    }\n",
       "</style>\n",
       "<table border=\"1\" class=\"dataframe\">\n",
       "  <thead>\n",
       "    <tr style=\"text-align: right;\">\n",
       "      <th></th>\n",
       "      <th>web</th>\n",
       "      <th>lat</th>\n",
       "      <th>lon</th>\n",
       "      <th>city</th>\n",
       "      <th>country</th>\n",
       "      <th>online</th>\n",
       "    </tr>\n",
       "  </thead>\n",
       "  <tbody>\n",
       "    <tr>\n",
       "      <th>99037</th>\n",
       "      <td>https://www.au-tout-va-bien.fr/category/menu-c...</td>\n",
       "      <td>49.7632003</td>\n",
       "      <td>4.7189967</td>\n",
       "      <td>Charleville-Mézières</td>\n",
       "      <td>FR</td>\n",
       "      <td>20230207084758</td>\n",
       "    </tr>\n",
       "    <tr>\n",
       "      <th>456458</th>\n",
       "      <td>https://www.garages-tanguy.com/nos-garages-meu...</td>\n",
       "      <td>48.2625996</td>\n",
       "      <td>6.9858690</td>\n",
       "      <td>Sainte-Marguerite</td>\n",
       "      <td>FR</td>\n",
       "      <td>20231129063000</td>\n",
       "    </tr>\n",
       "    <tr>\n",
       "      <th>39913</th>\n",
       "      <td>https://www.minavignon.fr/service,salle-aqua--...</td>\n",
       "      <td>43.9346984</td>\n",
       "      <td>4.8364823</td>\n",
       "      <td>Avignon</td>\n",
       "      <td>FR</td>\n",
       "      <td>20240228083430</td>\n",
       "    </tr>\n",
       "    <tr>\n",
       "      <th>103304</th>\n",
       "      <td>https://lcnp.fr/2018/07/11/une-icone-coreenne-...</td>\n",
       "      <td>48.7758264</td>\n",
       "      <td>2.2309218</td>\n",
       "      <td>Châtenay-Malabry</td>\n",
       "      <td>FR</td>\n",
       "      <td>20230331040920</td>\n",
       "    </tr>\n",
       "    <tr>\n",
       "      <th>9846</th>\n",
       "      <td>https://www.michel-equipement.fr/shop/pubert-x...</td>\n",
       "      <td>44.1064350</td>\n",
       "      <td>4.0912670</td>\n",
       "      <td>Alès</td>\n",
       "      <td>FR</td>\n",
       "      <td>20230602223346</td>\n",
       "    </tr>\n",
       "  </tbody>\n",
       "</table>\n",
       "</div>"
      ],
      "text/plain": [
       "                                                      web         lat  \\\n",
       "99037   https://www.au-tout-va-bien.fr/category/menu-c...  49.7632003   \n",
       "456458  https://www.garages-tanguy.com/nos-garages-meu...  48.2625996   \n",
       "39913   https://www.minavignon.fr/service,salle-aqua--...  43.9346984   \n",
       "103304  https://lcnp.fr/2018/07/11/une-icone-coreenne-...  48.7758264   \n",
       "9846    https://www.michel-equipement.fr/shop/pubert-x...  44.1064350   \n",
       "\n",
       "              lon                  city country          online  \n",
       "99037   4.7189967  Charleville-Mézières      FR  20230207084758  \n",
       "456458  6.9858690     Sainte-Marguerite      FR  20231129063000  \n",
       "39913   4.8364823               Avignon      FR  20240228083430  \n",
       "103304  2.2309218      Châtenay-Malabry      FR  20230331040920  \n",
       "9846    4.0912670                  Alès      FR  20230602223346  "
      ]
     },
     "execution_count": 13,
     "metadata": {},
     "output_type": "execute_result"
    }
   ],
   "source": [
    "print(f'Sample GeoWeb in cities (one per city)')\n",
    "data.sample(frac=1).drop_duplicates(subset=\"city\").sample(no_samples)"
   ]
  },
  {
   "cell_type": "markdown",
   "metadata": {
    "cell_id": "94e1176288a44a61920f387ff21828b4",
    "deepnote_cell_type": "markdown"
   },
   "source": [
    "## Country map"
   ]
  },
  {
   "cell_type": "code",
   "execution_count": 14,
   "metadata": {
    "cell_id": "bf411fa5eed0462f91800deedd69af9f",
    "deepnote_cell_type": "code",
    "deepnote_to_be_reexecuted": false,
    "execution_millis": 2156,
    "execution_start": 1688035941139,
    "output_cleared": false,
    "source_hash": "7fbb8ff9",
    "tags": []
   },
   "outputs": [
    {
     "data": {
      "image/png": "[encoded data removed]",
      "text/plain": [
       "<Figure size 640x480 with 1 Axes>"
      ]
     },
     "metadata": {},
     "output_type": "display_data"
    }
   ],
   "source": [
    "# country borders\n",
    "world = gpd.read_file('natural-earth/ne_10m_admin_0_countries')\n",
    "world = world.drop(\n",
    "    columns = world.columns.difference(['ISO_A2','geometry']))\n",
    "\n",
    "# country population\n",
    "popul = gpd.read_file('natural-earth/ne_10m_urban_areas')\n",
    "popul = popul.drop(\n",
    "    columns = popul.columns.difference(['ISO_A2','geometry']))\n",
    "\n",
    "# European France\n",
    "world_units = gpd.read_file('natural-earth/ne_10m_admin_0_map_units')\n",
    "world_units = world_units.drop(\n",
    "    columns = world_units.columns.difference(['ISO_A2','geometry']))\n",
    "\n",
    "# country map\n",
    "country_map = world.loc[world.ISO_A2 == COUNTRY]\n",
    "\n",
    "# for France use European part\n",
    "if COUNTRY == 'FR': \n",
    "    country_map = world_units.loc[world_units.ISO_A2 == COUNTRY]  \n",
    "\n",
    "# plot map\n",
    "ax = country_map.plot(color='white', edgecolor='black')\n",
    "\n",
    "# plot country main populated areas\n",
    "main_pop_country = gpd.sjoin(popul, country_map, predicate='within')\n",
    "# we scale just-informative popul areas for better visibility in country plots\n",
    "ax = main_pop_country.scale(2,2).plot(ax = ax,color='brown')\n",
    "\n",
    "# locs\n",
    "locs_map = data.drop_duplicates(subset=['lat', 'lon']).copy()\n",
    "\n",
    "# transform loc coordinates\n",
    "locs_map['loc_crd'] = gpd.points_from_xy(locs_map.lon,locs_map.lat)\n",
    "\n",
    "# geopandas\n",
    "locs_map = gpd.GeoDataFrame(locs_map)\n",
    "locs_map.loc_crd = locs_map.loc_crd.set_crs('EPSG:4326')\n",
    "\n",
    "# plot locs\n",
    "ax = locs_map.loc_crd.plot(ax = ax,\n",
    "                          marker = '+', color = 'blue',\n",
    "                          markersize = 250,lw = 0.5)\n",
    "\n",
    "# trim maps for the paper\n",
    "# only mainland (exclude overseas regions and islands)\n",
    "if COUNTRY == 'FR':\n",
    "    plt.xlim(left=-5.2,right=8.3); plt.ylim(top=51.5,bottom=42)\n",
    "\n",
    "plt.axis('off')\n",
    "\n",
    "plt.savefig(f'geo-web-maps/geo-web-map-{COUNTRY}.pdf',\n",
    "    bbox_inches='tight',pad_inches=0)\n",
    "\n",
    "plt.savefig(f'geo-web-maps/geo-web-map-{COUNTRY}.png',\n",
    "    bbox_inches='tight',pad_inches=0)\n",
    "\n",
    "plt.show()"
   ]
  }
 ],
 "metadata": {
  "deepnote": {},
  "deepnote_execution_queue": [],
  "deepnote_full_width": true,
  "deepnote_notebook_id": "bd3b278c9e474d68a593642279178d06",
  "kernelspec": {
   "display_name": "Python 3 (ipykernel)",
   "language": "python",
   "name": "python3"
  },
  "language_info": {
   "codemirror_mode": {
    "name": "ipython",
    "version": 3
   },
   "file_extension": ".py",
   "mimetype": "text/x-python",
   "name": "python",
   "nbconvert_exporter": "python",
   "pygments_lexer": "ipython3",
   "version": "3.12.4"
  }
 },
 "nbformat": 4,
 "nbformat_minor": 4
}
