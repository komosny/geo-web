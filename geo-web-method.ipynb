{
 "cells": [
  {
   "cell_type": "code",
   "execution_count": 1,
   "metadata": {
    "editable": true,
    "slideshow": {
     "slide_type": ""
    },
    "tags": []
   },
   "outputs": [
    {
     "name": "stdout",
     "output_type": "stream",
     "text": [
      "Python 3.12.4\n"
     ]
    }
   ],
   "source": [
    "# developed in Python 3\n",
    "!python --version"
   ]
  },
  {
   "cell_type": "markdown",
   "metadata": {
    "cell_id": "62e3218e5e6e4008b238221d674d7ee8",
    "deepnote_cell_type": "code",
    "deepnote_to_be_reexecuted": false,
    "execution_millis": 5,
    "execution_start": 1688035111452,
    "output_cleared": false,
    "source_hash": "90e4aabe"
   },
   "source": [
    "# Options"
   ]
  },
  {
   "cell_type": "code",
   "execution_count": 2,
   "metadata": {
    "cell_id": "62e3218e5e6e4008b238221d674d7ee8",
    "deepnote_cell_type": "code",
    "deepnote_to_be_reexecuted": false,
    "execution_millis": 5,
    "execution_start": 1688035111452,
    "output_cleared": false,
    "source_hash": "90e4aabe"
   },
   "outputs": [],
   "source": [
    "# country ISO A2 code\n",
    "COUNTRY = 'CZ'"
   ]
  },
  {
   "cell_type": "code",
   "execution_count": 3,
   "metadata": {
    "cell_id": "62e3218e5e6e4008b238221d674d7ee8",
    "deepnote_cell_type": "code",
    "deepnote_to_be_reexecuted": false,
    "execution_millis": 5,
    "execution_start": 1688035111452,
    "output_cleared": false,
    "source_hash": "90e4aabe"
   },
   "outputs": [],
   "source": [
    "# min, max population of country cities to be included in GeoWeb data\n",
    "CITY_POP_MIN = 10000\n",
    "CITY_POP_MAX = 100000000 #any large city\n",
    "\n",
    "# from,to time range of webpages seen online to be included in GeoWeb data\n",
    "YEAR_FROM = 2023\n",
    "YEAR_TO = 2024"
   ]
  },
  {
   "cell_type": "code",
   "execution_count": 4,
   "metadata": {
    "cell_id": "62e3218e5e6e4008b238221d674d7ee8",
    "deepnote_cell_type": "code",
    "deepnote_to_be_reexecuted": false,
    "execution_millis": 5,
    "execution_start": 1688035111452,
    "output_cleared": false,
    "source_hash": "90e4aabe"
   },
   "outputs": [],
   "source": [
    "# optional cache for functions\n",
    "CACHE_ENABLED = True"
   ]
  },
  {
   "cell_type": "markdown",
   "metadata": {
    "cell_id": "8bb0842309584785b6965be73f67b346",
    "deepnote_cell_type": "markdown"
   },
   "source": [
    "# Initialization"
   ]
  },
  {
   "cell_type": "code",
   "execution_count": 5,
   "metadata": {
    "scrolled": true
   },
   "outputs": [
    {
     "name": "stdout",
     "output_type": "stream",
     "text": [
      "Requirement already satisfied: ptyprocess>=0.5 in /home/komosny/Dokumenty/01_develop/__PYTHON_312/lib64/python3.12/site-packages (from pexpect>4.3->ipython==8.12.3->-r requirements.txt (line 6)) (0.7.0)\n",
      "Requirement already satisfied: wcwidth in /home/komosny/Dokumenty/01_develop/__PYTHON_312/lib64/python3.12/site-packages (from prompt-toolkit!=3.0.37,<3.1.0,>=3.0.30->ipython==8.12.3->-r requirements.txt (line 6)) (0.2.13)\n",
      "Requirement already satisfied: executing>=1.2.0 in /home/komosny/Dokumenty/01_develop/__PYTHON_312/lib64/python3.12/site-packages (from stack-data->ipython==8.12.3->-r requirements.txt (line 6)) (2.0.1)\n",
      "Requirement already satisfied: asttokens>=2.1.0 in /home/komosny/Dokumenty/01_develop/__PYTHON_312/lib64/python3.12/site-packages (from stack-data->ipython==8.12.3->-r requirements.txt (line 6)) (2.4.1)\n",
      "Requirement already satisfied: pure-eval in /home/komosny/Dokumenty/01_develop/__PYTHON_312/lib64/python3.12/site-packages (from stack-data->ipython==8.12.3->-r requirements.txt (line 6)) (0.2.3)\n"
     ]
    }
   ],
   "source": [
    "# these modules are used in \n",
    "# geo-web-method geo-web-demo geo-web-results\n",
    "!pip install -r requirements.txt --disable-pip-version-check | tail -n 5"
   ]
  },
  {
   "cell_type": "code",
   "execution_count": 6,
   "metadata": {
    "cell_id": "a3cd621ce66c4094add0d8f110b72885",
    "deepnote_cell_type": "code",
    "deepnote_to_be_reexecuted": false,
    "execution_millis": 1615,
    "execution_start": 1688035111453,
    "output_cleared": false,
    "source_hash": "c29dba72",
    "tags": []
   },
   "outputs": [],
   "source": [
    "import json,copy,random,operator,sys,os,re\n",
    "\n",
    "import numpy as np\n",
    "import pandas as pd\n",
    "import shapely as sh\n",
    "import humanize as hm\n",
    "import geopandas as gpd\n",
    "import matplotlib.pyplot as plt\n",
    "\n",
    "import geonamescache as gn\n",
    "gn_cache = gn.GeonamesCache()\n",
    "\n",
    "import folium\n",
    "from IPython.display import HTML\n",
    "\n",
    "import requests\n",
    "from bs4 import BeautifulSoup\n",
    "\n",
    "from requests_ratelimiter import LimiterSession\n",
    "session = LimiterSession(per_second=1)\n",
    "session.headers.update({'User-Agent': 'geo-web','email':'utko@vut.cz'})\n",
    "\n",
    "from tqdm import tqdm\n",
    "tqdm.pandas(file=sys.stdout,ncols=100)\n",
    "\n",
    "from joblib import Memory\n",
    "memory = Memory(location=f'__CACHE/{COUNTRY}' if CACHE_ENABLED else None,verbose=0)"
   ]
  },
  {
   "cell_type": "code",
   "execution_count": 7,
   "metadata": {
    "cell_id": "866d13af5cdb4d42b92c855775b3b1d7",
    "deepnote_cell_type": "code",
    "deepnote_to_be_reexecuted": false,
    "execution_millis": 1253,
    "execution_start": 1688035113079,
    "output_cleared": false,
    "source_hash": "c9f7c5f3"
   },
   "outputs": [],
   "source": [
    "# global websites \n",
    "# https://majestic.com/reports/majestic-million?domain=&majesticMillionType=0&tld=&oq=&canUseDefault=\n",
    "global_roots = set()\n",
    "\n",
    "with open('global-websites/global-websites.csv', 'r') as f:\n",
    "    for line in f:\n",
    "        columns = line.strip().split(',')\n",
    "        global_roots.add(columns[2])\n",
    "\n",
    "exclude_pages = {'robots.txt', 'sitemap.xml', '.htaccess','favicon.ico', 'humans.txt'}"
   ]
  },
  {
   "cell_type": "markdown",
   "metadata": {
    "cell_id": "25b2bb0891b7451b8a91c15ddfad01e6",
    "deepnote_cell_type": "markdown",
    "tags": []
   },
   "source": [
    "# Functions"
   ]
  },
  {
   "cell_type": "markdown",
   "metadata": {},
   "source": [
    "### REST_API_CALL"
   ]
  },
  {
   "cell_type": "code",
   "execution_count": 8,
   "metadata": {},
   "outputs": [],
   "source": [
    "# we do not set a timeout for requests as REST API calls take a long time on their own\n",
    "# we wait for the response or throw an exception if there is a connection error"
   ]
  },
  {
   "cell_type": "code",
   "execution_count": 9,
   "metadata": {},
   "outputs": [
    {
     "name": "stdout",
     "output_type": "stream",
     "text": [
      "CPU times: user 0 ns, sys: 480 µs, total: 480 µs\n",
      "Wall time: 396 µs\n"
     ]
    },
    {
     "data": {
      "text/plain": [
       "<Response [200]>"
      ]
     },
     "execution_count": 9,
     "metadata": {},
     "output_type": "execute_result"
    }
   ],
   "source": [
    "@memory.cache\n",
    "def REST_API_CALL(url):\n",
    "\n",
    "    response = pd.NA\n",
    "    \n",
    "    try:\n",
    "        response = session.get(url)\n",
    "    except:\n",
    "        raise UserWarning('REST API connection error.')\n",
    "    \n",
    "    return response\n",
    "\n",
    "url = 'https://nominatim.openstreetmap.org/search?city=Paris&country=FR&format=json'\n",
    "%time REST_API_CALL(url)"
   ]
  },
  {
   "cell_type": "markdown",
   "metadata": {
    "cell_id": "0503f04467fe4827bacab80e66b9720c",
    "deepnote_cell_type": "markdown",
    "tags": []
   },
   "source": [
    "## parse_url"
   ]
  },
  {
   "cell_type": "code",
   "execution_count": 10,
   "metadata": {
    "cell_id": "63f94550ccfb4ff78ae64ceb11c38f5d",
    "deepnote_cell_type": "code",
    "deepnote_to_be_reexecuted": false,
    "execution_millis": 6,
    "execution_start": 1688035114393,
    "output_cleared": false,
    "source_hash": "3c358858",
    "tags": []
   },
   "outputs": [
    {
     "data": {
      "text/plain": [
       "{'domain': 'www.overleaf.com',\n",
       " 'path': 'user/subscription/plans',\n",
       " 'root': 'overleaf.com'}"
      ]
     },
     "execution_count": 10,
     "metadata": {},
     "output_type": "execute_result"
    }
   ],
   "source": [
    "def parse_url(url):\n",
    "    '''\n",
    "    Parses domain, root domain, and endpath from URL\n",
    "    \n",
    "    Verifies URL to be valid\n",
    "\n",
    "    :param str url: url to parse\n",
    "    :return: domain, path, root domain\n",
    "    :rtype: dict\n",
    "    '''\n",
    "    \n",
    "    # remove protocol\n",
    "    url = url.removeprefix('https://')\n",
    "    url = url.removeprefix('http://')\n",
    "\n",
    "    domain = pd.NA; path = pd.NA; root = pd.NA\n",
    "\n",
    "    # domain and path\n",
    "    parsed = url.split('/',1)     \n",
    "    domain = parsed[0]\n",
    "\n",
    "    # allowed chars alpha, numbers and .-\n",
    "    if ('.' not in domain or \n",
    "        not domain.replace('.','').replace('-','').isalnum()): \n",
    "        \n",
    "        domain = pd.NA\n",
    "        \n",
    "    if pd.notna(domain) and len(parsed) == 2:  \n",
    "        path = parsed[1]\n",
    "        if path == '': path = pd.NA\n",
    "\n",
    "    # other domain levels\n",
    "    if pd.notna(domain):\n",
    "        parsed = domain.rsplit('.',2)[-2:]\n",
    "        root = '.'.join(parsed)\n",
    "\n",
    "    return {'domain':domain,'path':path,'root':root}\n",
    "    \n",
    "assert parse_url(url= 'https://www.overleaf.com/user/subscription/plans') == {\n",
    "    'domain': 'www.overleaf.com', 'path': 'user/subscription/plans',\n",
    "    'root': 'overleaf.com'}\n",
    "\n",
    "parse_url(url= 'https://www.overleaf.com/user/subscription/plans')"
   ]
  },
  {
   "cell_type": "markdown",
   "metadata": {
    "cell_id": "83e0d72de7574101ad1d1bbd3b2e0f17",
    "deepnote_cell_type": "markdown",
    "tags": []
   },
   "source": [
    "## list_country_cities"
   ]
  },
  {
   "cell_type": "code",
   "execution_count": 11,
   "metadata": {
    "cell_id": "5b35c07ed9aa487fa372b00d7e267483",
    "deepnote_cell_type": "code",
    "deepnote_table_loading": false,
    "deepnote_table_state": {
     "filters": [],
     "pageIndex": 0,
     "pageSize": 10,
     "sortBy": []
    },
    "deepnote_to_be_reexecuted": false,
    "execution_millis": 453,
    "execution_start": 1688035114401,
    "output_cleared": false,
    "source_hash": "7b2b30fb",
    "tags": []
   },
   "outputs": [
    {
     "name": "stdout",
     "output_type": "stream",
     "text": [
      "CPU times: user 48.9 ms, sys: 15.9 ms, total: 64.9 ms\n",
      "Wall time: 64.7 ms\n"
     ]
    },
    {
     "data": {
      "text/plain": [
       "['Paris', 'Marseille', 'Lyon', 'Toulouse', 'Nice']"
      ]
     },
     "execution_count": 11,
     "metadata": {},
     "output_type": "execute_result"
    }
   ],
   "source": [
    "def list_country_cities(country):\n",
    "    '''\n",
    "    Lists cities in country\n",
    "\n",
    "    Min city pop is 15000\n",
    "\n",
    "    :param str country: country code ISO A2\n",
    "    :return: cities; sorted by population\n",
    "    :rtype list\n",
    "    '''\n",
    "\n",
    "    result = gn_cache.get_cities()\n",
    "    cities = []\n",
    "\n",
    "    for city in result:\n",
    "        if (result[city]['countrycode'] == country and \n",
    "            result[city]['population'] > CITY_POP_MIN and \n",
    "            result[city]['population'] < CITY_POP_MAX):\n",
    "            \n",
    "            cities.append({'name':result[city]['name'],\n",
    "                'pop':result[city]['population']})\n",
    "\n",
    "    cities.sort(key=operator.itemgetter('pop'),reverse = True)\n",
    "    cities = [city['name'] for city in cities]\n",
    "\n",
    "    if len(cities) == 0: cities = pd.NA\n",
    "\n",
    "    return cities\n",
    "    \n",
    "%time list_country_cities(country='FR')[:5]"
   ]
  },
  {
   "cell_type": "markdown",
   "metadata": {
    "cell_id": "c9f1626bcb4f4f8e8cdfb616d7326984",
    "deepnote_cell_type": "markdown"
   },
   "source": [
    "## city_to_area_id"
   ]
  },
  {
   "cell_type": "code",
   "execution_count": 12,
   "metadata": {
    "cell_id": "cc0308e01005429e8069ca4792a05d22",
    "deepnote_cell_type": "code",
    "deepnote_to_be_reexecuted": false,
    "execution_millis": 9,
    "execution_start": 1688035114859,
    "output_cleared": false,
    "source_hash": "32dc22"
   },
   "outputs": [
    {
     "name": "stdout",
     "output_type": "stream",
     "text": [
      "CPU times: user 0 ns, sys: 912 µs, total: 912 µs\n",
      "Wall time: 769 µs\n"
     ]
    },
    {
     "data": {
      "text/plain": [
       "3600071525"
      ]
     },
     "execution_count": 12,
     "metadata": {},
     "output_type": "execute_result"
    }
   ],
   "source": [
    "def city_to_area_id(city,country):\n",
    "    '''\n",
    "    Resolves city to OSM area ID\n",
    "\n",
    "    :param str city: city\n",
    "    :param str country: country\n",
    "    :return: OSM area ID\n",
    "    :rtype int\n",
    "    '''\n",
    "    \n",
    "    area_id = pd.NA\n",
    "\n",
    "    url = f'https://nominatim.openstreetmap.org/search?city={city}&country={country}&format=json'\n",
    "    \n",
    "    response = REST_API_CALL(url)\n",
    "    \n",
    "    if response.status_code == 200:\n",
    "        \n",
    "        try:\n",
    "            response_data = json.loads(response.text)\n",
    "            \n",
    "            # find first relation-type record\n",
    "            for record in response_data:    \n",
    "                if record['osm_type'] == 'relation':\n",
    "                    area_id = record['osm_id'] + 3600000000; break\n",
    "        except:\n",
    "            raise UserWarning('REST API data error.')\n",
    "            \n",
    "    else:      \n",
    "        #print('\\nREST API request error.')\n",
    "        None\n",
    "\n",
    "    return area_id\n",
    "\n",
    "%time city_to_area_id(city='Paris',country='FR')"
   ]
  },
  {
   "cell_type": "markdown",
   "metadata": {
    "cell_id": "bbf2bdafe00e437fa2565ca141f71ab5",
    "deepnote_cell_type": "markdown"
   },
   "source": [
    "## get_city_webpages"
   ]
  },
  {
   "cell_type": "code",
   "execution_count": 13,
   "metadata": {
    "cell_id": "e77324cec8914764a471292dae285fff",
    "deepnote_cell_type": "code",
    "deepnote_to_be_reexecuted": false,
    "execution_millis": 120,
    "execution_start": 1688035114884,
    "output_cleared": false,
    "source_hash": "54c74e08"
   },
   "outputs": [
    {
     "name": "stdout",
     "output_type": "stream",
     "text": [
      "CPU times: user 30.8 ms, sys: 0 ns, total: 30.8 ms\n",
      "Wall time: 30.5 ms\n"
     ]
    },
    {
     "data": {
      "text/plain": [
       "[{'webpage': 'https://www.batobus.com/fr/station/notre-dame',\n",
       "  'lat': '48.8518340',\n",
       "  'lon': '2.3500556'},\n",
       " {'webpage': 'https://store.totalenergies.fr/en_EN/NF078037',\n",
       "  'lat': '48.8346767',\n",
       "  'lon': '2.2661460'}]"
      ]
     },
     "execution_count": 13,
     "metadata": {},
     "output_type": "execute_result"
    }
   ],
   "source": [
    "def get_city_webpages(area):\n",
    "    '''\n",
    "    Gets websites of city entities\n",
    "\n",
    "    :param str area_id: city area\n",
    "    :return: webpage, lat, lon\n",
    "    :rtype list of dict\n",
    "    '''\n",
    "\n",
    "    websites = []\n",
    "\n",
    "    query = f'''[out:csv(website,::lat,::lon)][timeout:300];\n",
    "    area({area}) ->.city;\n",
    "    (\n",
    "    node['website'](area.city);\n",
    "    way['website'](area.city);\n",
    "    );\n",
    "    out center;'''\n",
    "\n",
    "    url = f'https://overpass-api.de/api/interpreter?data={query}'\n",
    "\n",
    "    response = REST_API_CALL(url)\n",
    "\n",
    "    if response.status_code == 200:\n",
    "        \n",
    "        try:\n",
    "            response_data = response.text.split('\\n')[1:-1]\n",
    "    \n",
    "            for record in response_data:\n",
    "                    try:\n",
    "                        url,url_lat,url_lon = record.split('\\t')\n",
    "                        websites.append({'webpage':url,'lat':url_lat,'lon':url_lon})\n",
    "                    except:\n",
    "                        # skip wrong record\n",
    "                        pass\n",
    "        except:\n",
    "            #print('\\nREST API data error.')\n",
    "            pass\n",
    "\n",
    "\n",
    "    else:\n",
    "        #print('\\nREST API request error.')\n",
    "        None\n",
    "   \n",
    "    if len(websites) == 0: websites = pd.NA\n",
    "\n",
    "    return websites\n",
    "    \n",
    "#3600007444 Paris, FR\n",
    "%time get_city_webpages(area=3600007444)[:2]"
   ]
  },
  {
   "cell_type": "markdown",
   "metadata": {
    "cell_id": "592d0093bf8a4406a871ce42ee46ebfd",
    "deepnote_cell_type": "markdown"
   },
   "source": [
    "## get_website_pages"
   ]
  },
  {
   "cell_type": "code",
   "execution_count": 14,
   "metadata": {
    "cell_id": "74dd88048d8e4ac4a58e9070794f82d1",
    "deepnote_cell_type": "code",
    "deepnote_to_be_reexecuted": false,
    "execution_millis": 32,
    "execution_start": 1688035115454,
    "output_cleared": false,
    "source_hash": "6d1f177b"
   },
   "outputs": [
    {
     "name": "stdout",
     "output_type": "stream",
     "text": [
      "CPU times: user 724 µs, sys: 0 ns, total: 724 µs\n",
      "Wall time: 787 µs\n"
     ]
    },
    {
     "data": {
      "text/plain": [
       "[{'web': 'https://www.vut.cz/', 'online': '20230101115215'},\n",
       " {'web': 'https://www.vut.cz/120', 'online': '20240304145346'}]"
      ]
     },
     "execution_count": 14,
     "metadata": {},
     "output_type": "execute_result"
    }
   ],
   "source": [
    "# calculate geo-web page limit for a local website\n",
    "# 100 pages/year\n",
    "geoweb_page_limit = (YEAR_TO - YEAR_FROM)*100\n",
    "\n",
    "def get_website_pages(website,year_from,year_to):\n",
    "    '''\n",
    "    Gets website subdomains and endpages\n",
    "\n",
    "    :param str website: website\n",
    "    :param int year_from: first year when pages were seen online (archived)\n",
    "    :param int year_to: last year when pages were seen online (archived)\n",
    "    :return: webpage, date\n",
    "    :rtype: list of dict\n",
    "    '''\n",
    "\n",
    "    pages = []\n",
    "\n",
    "    query = f'*.{website}&output=json&filter=statuscode:200&filter=mimetype:text/html&from={year_from}&to={year_to}&fl=timestamp,original&collapse=urlkey&limit={geoweb_page_limit+1}'\n",
    "        \n",
    "    url = f'http://web.archive.org/cdx/search/cdx?url={query}'\n",
    "\n",
    "    response = REST_API_CALL(url)\n",
    "\n",
    "    if response.status_code == 200:\n",
    "        \n",
    "        try:\n",
    "            response_data = json.loads(response.text)[1:]\n",
    "                \n",
    "            try:\n",
    "                for record in response_data:\n",
    "                        web_time = record[0]; web_url = record[1]\n",
    "                        pages.append({'web':web_url,'online':web_time})                    \n",
    "            except:\n",
    "                # skip wrong record\n",
    "                pass\n",
    "            \n",
    "        except:\n",
    "            #print('\\nREST API data error.')\n",
    "            pass\n",
    "\n",
    "    else:    \n",
    "        #print('\\nREST API request error.')\n",
    "        pass\n",
    "\n",
    "    \n",
    "    if len(pages) == 0: pages = pd.NA\n",
    "        \n",
    "    return pages\n",
    "\n",
    "%time get_website_pages(website='www.vut.cz',year_from=2023,year_to=2024)[:2]"
   ]
  },
  {
   "cell_type": "code",
   "execution_count": 15,
   "metadata": {},
   "outputs": [],
   "source": [
    "def frame_info(frame,samples=5):\n",
    "\n",
    "    size = len(frame)  \n",
    "    \n",
    "    frame_sample = frame.sample(min(samples,size))\n",
    "    display(frame_sample)\n",
    "\n",
    "    mem = frame.memory_usage(deep=True).sum()\n",
    "    \n",
    "    print(f'Size {size}, Memory {hm.naturalsize(mem)}')\n",
    "    print(frame.dtypes)\n",
    "\n",
    "    return"
   ]
  },
  {
   "cell_type": "markdown",
   "metadata": {
    "cell_id": "1471b42cab4e47439a8c0bcca0e868d7",
    "deepnote_cell_type": "markdown",
    "tags": []
   },
   "source": [
    "# Main processing"
   ]
  },
  {
   "cell_type": "markdown",
   "metadata": {
    "cell_id": "1e04c0b5b8af49b5af51d8d627afc521",
    "deepnote_cell_type": "markdown"
   },
   "source": [
    "## Country cities"
   ]
  },
  {
   "cell_type": "code",
   "execution_count": 16,
   "metadata": {
    "cell_id": "82a6ca6773ee49c3bcbcaa991ab8ac3a",
    "deepnote_cell_type": "code",
    "deepnote_table_loading": false,
    "deepnote_table_state": {
     "filters": [],
     "pageIndex": 0,
     "pageSize": 10,
     "sortBy": []
    },
    "deepnote_to_be_reexecuted": false,
    "execution_millis": 1582,
    "execution_start": 1688035115489,
    "output_cleared": false,
    "source_hash": "97726334"
   },
   "outputs": [
    {
     "data": {
      "text/html": [
       "<div>\n",
       "<style scoped>\n",
       "    .dataframe tbody tr th:only-of-type {\n",
       "        vertical-align: middle;\n",
       "    }\n",
       "\n",
       "    .dataframe tbody tr th {\n",
       "        vertical-align: top;\n",
       "    }\n",
       "\n",
       "    .dataframe thead th {\n",
       "        text-align: right;\n",
       "    }\n",
       "</style>\n",
       "<table border=\"1\" class=\"dataframe\">\n",
       "  <thead>\n",
       "    <tr style=\"text-align: right;\">\n",
       "      <th></th>\n",
       "      <th>country</th>\n",
       "      <th>city</th>\n",
       "    </tr>\n",
       "  </thead>\n",
       "  <tbody>\n",
       "    <tr>\n",
       "      <th>5</th>\n",
       "      <td>CZ</td>\n",
       "      <td>Olomouc</td>\n",
       "    </tr>\n",
       "    <tr>\n",
       "      <th>37</th>\n",
       "      <td>CZ</td>\n",
       "      <td>Písek</td>\n",
       "    </tr>\n",
       "    <tr>\n",
       "      <th>62</th>\n",
       "      <td>CZ</td>\n",
       "      <td>Kutná Hora</td>\n",
       "    </tr>\n",
       "    <tr>\n",
       "      <th>90</th>\n",
       "      <td>CZ</td>\n",
       "      <td>Bílina</td>\n",
       "    </tr>\n",
       "    <tr>\n",
       "      <th>95</th>\n",
       "      <td>CZ</td>\n",
       "      <td>Klášterec nad Ohří</td>\n",
       "    </tr>\n",
       "  </tbody>\n",
       "</table>\n",
       "</div>"
      ],
      "text/plain": [
       "   country                city\n",
       "5       CZ             Olomouc\n",
       "37      CZ               Písek\n",
       "62      CZ          Kutná Hora\n",
       "90      CZ              Bílina\n",
       "95      CZ  Klášterec nad Ohří"
      ]
     },
     "metadata": {},
     "output_type": "display_data"
    },
    {
     "name": "stdout",
     "output_type": "stream",
     "text": [
      "Size 96, Memory 10.3 kB\n",
      "country    category\n",
      "city       category\n",
      "dtype: object\n"
     ]
    }
   ],
   "source": [
    "data = pd.DataFrame([COUNTRY],columns = ['country'])\n",
    "\n",
    "# list cities in country\n",
    "data['cities'] = data.apply(\n",
    "    lambda row: list_country_cities(country = row.country),axis = 1)\n",
    "\n",
    "data = data.drop(data.loc[data.cities.isna()].index)\n",
    "\n",
    "if len(data) == 0: \n",
    "    raise UserWarning('No cities found. Change city list options.')\n",
    "\n",
    "data = data.explode('cities',ignore_index = True).rename(columns = {'cities':'city'})\n",
    "data = data.drop_duplicates(subset = 'city')\n",
    "\n",
    "# memory\n",
    "data.country = data.country.astype('category')\n",
    "data.city = data.city.astype('category')\n",
    "\n",
    "frame_info(data)"
   ]
  },
  {
   "cell_type": "code",
   "execution_count": 17,
   "metadata": {
    "cell_id": "82a6ca6773ee49c3bcbcaa991ab8ac3a",
    "deepnote_cell_type": "code",
    "deepnote_table_loading": false,
    "deepnote_table_state": {
     "filters": [],
     "pageIndex": 0,
     "pageSize": 10,
     "sortBy": []
    },
    "deepnote_to_be_reexecuted": false,
    "execution_millis": 1582,
    "execution_start": 1688035115489,
    "output_cleared": false,
    "source_hash": "97726334"
   },
   "outputs": [
    {
     "name": "stdout",
     "output_type": "stream",
     "text": [
      "100%|█████████████████████████████████████████████████████████████| 96/96 [00:00<00:00, 5523.59it/s]\n"
     ]
    },
    {
     "data": {
      "text/html": [
       "<div>\n",
       "<style scoped>\n",
       "    .dataframe tbody tr th:only-of-type {\n",
       "        vertical-align: middle;\n",
       "    }\n",
       "\n",
       "    .dataframe tbody tr th {\n",
       "        vertical-align: top;\n",
       "    }\n",
       "\n",
       "    .dataframe thead th {\n",
       "        text-align: right;\n",
       "    }\n",
       "</style>\n",
       "<table border=\"1\" class=\"dataframe\">\n",
       "  <thead>\n",
       "    <tr style=\"text-align: right;\">\n",
       "      <th></th>\n",
       "      <th>country</th>\n",
       "      <th>city</th>\n",
       "      <th>area</th>\n",
       "    </tr>\n",
       "  </thead>\n",
       "  <tbody>\n",
       "    <tr>\n",
       "      <th>54</th>\n",
       "      <td>CZ</td>\n",
       "      <td>Strakonice</td>\n",
       "      <td>3600425590</td>\n",
       "    </tr>\n",
       "    <tr>\n",
       "      <th>20</th>\n",
       "      <td>CZ</td>\n",
       "      <td>Jihlava</td>\n",
       "      <td>3600440427</td>\n",
       "    </tr>\n",
       "    <tr>\n",
       "      <th>71</th>\n",
       "      <td>CZ</td>\n",
       "      <td>Otrokovice</td>\n",
       "      <td>3600440877</td>\n",
       "    </tr>\n",
       "    <tr>\n",
       "      <th>36</th>\n",
       "      <td>CZ</td>\n",
       "      <td>Trutnov</td>\n",
       "      <td>3600440154</td>\n",
       "    </tr>\n",
       "    <tr>\n",
       "      <th>26</th>\n",
       "      <td>CZ</td>\n",
       "      <td>Česká Lípa</td>\n",
       "      <td>3600440197</td>\n",
       "    </tr>\n",
       "  </tbody>\n",
       "</table>\n",
       "</div>"
      ],
      "text/plain": [
       "   country        city        area\n",
       "54      CZ  Strakonice  3600425590\n",
       "20      CZ     Jihlava  3600440427\n",
       "71      CZ  Otrokovice  3600440877\n",
       "36      CZ     Trutnov  3600440154\n",
       "26      CZ  Česká Lípa  3600440197"
      ]
     },
     "metadata": {},
     "output_type": "display_data"
    },
    {
     "name": "stdout",
     "output_type": "stream",
     "text": [
      "Size 96, Memory 11.1 kB\n",
      "country    category\n",
      "city       category\n",
      "area          int64\n",
      "dtype: object\n"
     ]
    }
   ],
   "source": [
    "# resolve cities to OSM area ID\n",
    "data['area'] = data.progress_apply(\n",
    "    lambda row:city_to_area_id(city = row.city,country = row.country),axis = 1)\n",
    "\n",
    "data = data.drop(data.loc[data.area.isna()].index)\n",
    "\n",
    "if len(data) == 0: \n",
    "    raise UserWarning('No cities found. Check REST API service.')\n",
    "\n",
    "frame_info(data)"
   ]
  },
  {
   "cell_type": "markdown",
   "metadata": {
    "cell_id": "67d533361a3e47318ad2cd00be3e7f14",
    "deepnote_cell_type": "markdown"
   },
   "source": [
    "## City webpages"
   ]
  },
  {
   "cell_type": "code",
   "execution_count": 18,
   "metadata": {
    "cell_id": "fc28c4e50f2f4dc892fd22eb73916fce",
    "deepnote_cell_type": "code",
    "deepnote_table_loading": false,
    "deepnote_table_state": {
     "filters": [],
     "pageIndex": 0,
     "pageSize": 10,
     "sortBy": [
      {
       "id": "no_websites",
       "type": "desc"
      }
     ]
    },
    "deepnote_to_be_reexecuted": false,
    "execution_millis": 2420,
    "execution_start": 1688035117112,
    "output_cleared": false,
    "source_hash": "8ae1197e"
   },
   "outputs": [
    {
     "name": "stdout",
     "output_type": "stream",
     "text": [
      "100%|█████████████████████████████████████████████████████████████| 96/96 [00:00<00:00, 4349.43it/s]\n"
     ]
    },
    {
     "data": {
      "text/html": [
       "<div>\n",
       "<style scoped>\n",
       "    .dataframe tbody tr th:only-of-type {\n",
       "        vertical-align: middle;\n",
       "    }\n",
       "\n",
       "    .dataframe tbody tr th {\n",
       "        vertical-align: top;\n",
       "    }\n",
       "\n",
       "    .dataframe thead th {\n",
       "        text-align: right;\n",
       "    }\n",
       "</style>\n",
       "<table border=\"1\" class=\"dataframe\">\n",
       "  <thead>\n",
       "    <tr style=\"text-align: right;\">\n",
       "      <th></th>\n",
       "      <th>country</th>\n",
       "      <th>city</th>\n",
       "      <th>webpage</th>\n",
       "      <th>lat</th>\n",
       "      <th>lon</th>\n",
       "    </tr>\n",
       "  </thead>\n",
       "  <tbody>\n",
       "    <tr>\n",
       "      <th>9651</th>\n",
       "      <td>CZ</td>\n",
       "      <td>Brno</td>\n",
       "      <td>https://autoskolapelikan.cz/</td>\n",
       "      <td>49.2053320</td>\n",
       "      <td>16.5940178</td>\n",
       "    </tr>\n",
       "    <tr>\n",
       "      <th>9694</th>\n",
       "      <td>CZ</td>\n",
       "      <td>Brno</td>\n",
       "      <td>https://www.zasilkovna.cz/pobocky/z-box-brno-l...</td>\n",
       "      <td>49.2020767</td>\n",
       "      <td>16.6685081</td>\n",
       "    </tr>\n",
       "    <tr>\n",
       "      <th>7061</th>\n",
       "      <td>CZ</td>\n",
       "      <td>Prague</td>\n",
       "      <td>https://www.palacove-zahrady.cz/</td>\n",
       "      <td>50.0908512</td>\n",
       "      <td>14.4048779</td>\n",
       "    </tr>\n",
       "    <tr>\n",
       "      <th>16160</th>\n",
       "      <td>CZ</td>\n",
       "      <td>Karlovy Vary</td>\n",
       "      <td>https://www.pensionrainbow.cz/cs/</td>\n",
       "      <td>50.2440342</td>\n",
       "      <td>12.8633133</td>\n",
       "    </tr>\n",
       "    <tr>\n",
       "      <th>20820</th>\n",
       "      <td>CZ</td>\n",
       "      <td>Rakovník</td>\n",
       "      <td>http://penzion-bezdekov.cz/</td>\n",
       "      <td>50.1037258</td>\n",
       "      <td>13.7422697</td>\n",
       "    </tr>\n",
       "  </tbody>\n",
       "</table>\n",
       "</div>"
      ],
      "text/plain": [
       "      country          city  \\\n",
       "9651       CZ          Brno   \n",
       "9694       CZ          Brno   \n",
       "7061       CZ        Prague   \n",
       "16160      CZ  Karlovy Vary   \n",
       "20820      CZ      Rakovník   \n",
       "\n",
       "                                                 webpage         lat  \\\n",
       "9651                        https://autoskolapelikan.cz/  49.2053320   \n",
       "9694   https://www.zasilkovna.cz/pobocky/z-box-brno-l...  49.2020767   \n",
       "7061                    https://www.palacove-zahrady.cz/  50.0908512   \n",
       "16160                  https://www.pensionrainbow.cz/cs/  50.2440342   \n",
       "20820                        http://penzion-bezdekov.cz/  50.1037258   \n",
       "\n",
       "              lon  \n",
       "9651   16.5940178  \n",
       "9694   16.6685081  \n",
       "7061   14.4048779  \n",
       "16160  12.8633133  \n",
       "20820  13.7422697  "
      ]
     },
     "metadata": {},
     "output_type": "display_data"
    },
    {
     "name": "stdout",
     "output_type": "stream",
     "text": [
      "Size 21558, Memory 2.6 MB\n",
      "country           category\n",
      "city              category\n",
      "webpage             object\n",
      "lat        string[pyarrow]\n",
      "lon        string[pyarrow]\n",
      "dtype: object\n"
     ]
    }
   ],
   "source": [
    "# get city websites\n",
    "data['webpages_meta'] = data.progress_apply(\n",
    "    lambda row: get_city_webpages(area = row.area),axis = 1)\n",
    "\n",
    "data = data.drop(data.loc[data.webpages_meta.isna()].index)\n",
    "\n",
    "if len(data) == 0:\n",
    "    raise UserWarning('No city websites found. Check REST API service or change options.')\n",
    "\n",
    "data.pop('area')\n",
    "\n",
    "data = data.explode('webpages_meta',ignore_index=True).rename(\n",
    "    columns = {'webpages_meta':'webpage_meta'})\n",
    "\n",
    "data = pd.concat([data,pd.json_normalize(data.webpage_meta)],axis = 1)\n",
    "data.pop('webpage_meta')\n",
    "\n",
    "# memory\n",
    "data.lat = data.lat.astype(pd.StringDtype('pyarrow'))\n",
    "data.lon = data.lon.astype(pd.StringDtype('pyarrow'))\n",
    "\n",
    "frame_info(data)"
   ]
  },
  {
   "cell_type": "code",
   "execution_count": 19,
   "metadata": {},
   "outputs": [
    {
     "name": "stdout",
     "output_type": "stream",
     "text": [
      "100%|█████████████████████████████████████████████████████| 21558/21558 [00:00<00:00, 980766.71it/s]\n"
     ]
    },
    {
     "data": {
      "text/html": [
       "<div>\n",
       "<style scoped>\n",
       "    .dataframe tbody tr th:only-of-type {\n",
       "        vertical-align: middle;\n",
       "    }\n",
       "\n",
       "    .dataframe tbody tr th {\n",
       "        vertical-align: top;\n",
       "    }\n",
       "\n",
       "    .dataframe thead th {\n",
       "        text-align: right;\n",
       "    }\n",
       "</style>\n",
       "<table border=\"1\" class=\"dataframe\">\n",
       "  <thead>\n",
       "    <tr style=\"text-align: right;\">\n",
       "      <th></th>\n",
       "      <th>country</th>\n",
       "      <th>city</th>\n",
       "      <th>lat</th>\n",
       "      <th>lon</th>\n",
       "      <th>webroot</th>\n",
       "    </tr>\n",
       "  </thead>\n",
       "  <tbody>\n",
       "    <tr>\n",
       "      <th>2290</th>\n",
       "      <td>CZ</td>\n",
       "      <td>Prague</td>\n",
       "      <td>50.1002331</td>\n",
       "      <td>14.4243957</td>\n",
       "      <td>cheesyandko.cz</td>\n",
       "    </tr>\n",
       "    <tr>\n",
       "      <th>12551</th>\n",
       "      <td>CZ</td>\n",
       "      <td>České Budějovice</td>\n",
       "      <td>48.9492350</td>\n",
       "      <td>14.5022154</td>\n",
       "      <td>hotellaguna.cz</td>\n",
       "    </tr>\n",
       "    <tr>\n",
       "      <th>4317</th>\n",
       "      <td>CZ</td>\n",
       "      <td>Prague</td>\n",
       "      <td>50.1051888</td>\n",
       "      <td>14.4484318</td>\n",
       "      <td>mmproduction.eu</td>\n",
       "    </tr>\n",
       "    <tr>\n",
       "      <th>8347</th>\n",
       "      <td>CZ</td>\n",
       "      <td>Brno</td>\n",
       "      <td>49.1924880</td>\n",
       "      <td>16.6080272</td>\n",
       "      <td>tripoli.cz</td>\n",
       "    </tr>\n",
       "    <tr>\n",
       "      <th>3380</th>\n",
       "      <td>CZ</td>\n",
       "      <td>Prague</td>\n",
       "      <td>50.0795897</td>\n",
       "      <td>14.4183065</td>\n",
       "      <td>zeleznakoule.cz</td>\n",
       "    </tr>\n",
       "  </tbody>\n",
       "</table>\n",
       "</div>"
      ],
      "text/plain": [
       "      country              city         lat         lon          webroot\n",
       "2290       CZ            Prague  50.1002331  14.4243957   cheesyandko.cz\n",
       "12551      CZ  České Budějovice  48.9492350  14.5022154   hotellaguna.cz\n",
       "4317       CZ            Prague  50.1051888  14.4484318  mmproduction.eu\n",
       "8347       CZ              Brno  49.1924880  16.6080272       tripoli.cz\n",
       "3380       CZ            Prague  50.0795897  14.4183065  zeleznakoule.cz"
      ]
     },
     "metadata": {},
     "output_type": "display_data"
    },
    {
     "name": "stdout",
     "output_type": "stream",
     "text": [
      "Size 9202, Memory 637.1 kB\n",
      "country           category\n",
      "city              category\n",
      "lat        string[pyarrow]\n",
      "lon        string[pyarrow]\n",
      "webroot    string[pyarrow]\n",
      "dtype: object\n"
     ]
    }
   ],
   "source": [
    "# do not include global websites and drop duplicate\n",
    "data['webroot'] = data.webpage.progress_apply(lambda x: parse_url(x)['root'])\n",
    "data.pop('webpage')\n",
    "\n",
    "data = data.drop(data.loc[data.webroot.isna()].index)\n",
    "\n",
    "# do not include global websites\n",
    "data.webroot = data.webroot.str.lower()\n",
    "todrop = data.loc[data.webroot.isin(global_roots)]\n",
    "data = data.drop(todrop.index)\n",
    "\n",
    "# assure we only one website instance \n",
    "data = data.drop_duplicates(subset='webroot',keep=False)\n",
    "\n",
    "# memory\n",
    "data.webroot = data.webroot.astype(pd.StringDtype('pyarrow'))\n",
    "\n",
    "frame_info(data)"
   ]
  },
  {
   "cell_type": "markdown",
   "metadata": {
    "cell_id": "5ddfc76abe2d4a8bb3f3d79e679276c3",
    "deepnote_cell_type": "markdown"
   },
   "source": [
    "## Website pages"
   ]
  },
  {
   "cell_type": "code",
   "execution_count": 20,
   "metadata": {
    "cell_id": "a31ee1a2fb3a4b1a9336b49fad3a398e",
    "deepnote_cell_type": "code",
    "deepnote_table_invalid": false,
    "deepnote_table_loading": false,
    "deepnote_table_state": {
     "filters": [],
     "pageIndex": 0,
     "pageSize": 10,
     "sortBy": []
    },
    "deepnote_to_be_reexecuted": false,
    "execution_millis": 614009,
    "execution_start": 1688035315223,
    "output_cleared": false,
    "source_hash": "b6f0090a"
   },
   "outputs": [
    {
     "name": "stdout",
     "output_type": "stream",
     "text": [
      "100%|█████████████████████████████████████████████████████████| 9202/9202 [00:01<00:00, 5006.39it/s]\n"
     ]
    },
    {
     "data": {
      "text/html": [
       "<div>\n",
       "<style scoped>\n",
       "    .dataframe tbody tr th:only-of-type {\n",
       "        vertical-align: middle;\n",
       "    }\n",
       "\n",
       "    .dataframe tbody tr th {\n",
       "        vertical-align: top;\n",
       "    }\n",
       "\n",
       "    .dataframe thead th {\n",
       "        text-align: right;\n",
       "    }\n",
       "</style>\n",
       "<table border=\"1\" class=\"dataframe\">\n",
       "  <thead>\n",
       "    <tr style=\"text-align: right;\">\n",
       "      <th></th>\n",
       "      <th>country</th>\n",
       "      <th>city</th>\n",
       "      <th>lat</th>\n",
       "      <th>lon</th>\n",
       "      <th>web</th>\n",
       "      <th>online</th>\n",
       "    </tr>\n",
       "  </thead>\n",
       "  <tbody>\n",
       "    <tr>\n",
       "      <th>21087</th>\n",
       "      <td>CZ</td>\n",
       "      <td>Prague</td>\n",
       "      <td>50.1253371</td>\n",
       "      <td>14.4446896</td>\n",
       "      <td>http://www.sutka.cz/stale-menu/k-pivu-1</td>\n",
       "      <td>20230326020758</td>\n",
       "    </tr>\n",
       "    <tr>\n",
       "      <th>6405</th>\n",
       "      <td>CZ</td>\n",
       "      <td>Prague</td>\n",
       "      <td>49.9584775</td>\n",
       "      <td>14.3260737</td>\n",
       "      <td>http://www.nadjezem.cz/type/video/</td>\n",
       "      <td>20231221214008</td>\n",
       "    </tr>\n",
       "    <tr>\n",
       "      <th>734</th>\n",
       "      <td>CZ</td>\n",
       "      <td>Prague</td>\n",
       "      <td>50.0824881</td>\n",
       "      <td>14.4443030</td>\n",
       "      <td>https://www.belzepub.cz/online-menu/section:me...</td>\n",
       "      <td>20231201085006</td>\n",
       "    </tr>\n",
       "    <tr>\n",
       "      <th>6926</th>\n",
       "      <td>CZ</td>\n",
       "      <td>Prague</td>\n",
       "      <td>50.0813644</td>\n",
       "      <td>14.4254601</td>\n",
       "      <td>https://www.hospodalucerna.cz/category/nezaraz...</td>\n",
       "      <td>20230129080824</td>\n",
       "    </tr>\n",
       "    <tr>\n",
       "      <th>41168</th>\n",
       "      <td>CZ</td>\n",
       "      <td>Prague</td>\n",
       "      <td>50.1054121</td>\n",
       "      <td>14.3954275</td>\n",
       "      <td>https://www.estellacafe.cz/index.php/1009-2/14...</td>\n",
       "      <td>20230607131939</td>\n",
       "    </tr>\n",
       "  </tbody>\n",
       "</table>\n",
       "</div>"
      ],
      "text/plain": [
       "      country    city         lat         lon  \\\n",
       "21087      CZ  Prague  50.1253371  14.4446896   \n",
       "6405       CZ  Prague  49.9584775  14.3260737   \n",
       "734        CZ  Prague  50.0824881  14.4443030   \n",
       "6926       CZ  Prague  50.0813644  14.4254601   \n",
       "41168      CZ  Prague  50.1054121  14.3954275   \n",
       "\n",
       "                                                     web          online  \n",
       "21087            http://www.sutka.cz/stale-menu/k-pivu-1  20230326020758  \n",
       "6405                  http://www.nadjezem.cz/type/video/  20231221214008  \n",
       "734    https://www.belzepub.cz/online-menu/section:me...  20231201085006  \n",
       "6926   https://www.hospodalucerna.cz/category/nezaraz...  20230129080824  \n",
       "41168  https://www.estellacafe.cz/index.php/1009-2/14...  20230607131939  "
      ]
     },
     "metadata": {},
     "output_type": "display_data"
    },
    {
     "name": "stdout",
     "output_type": "stream",
     "text": [
      "Size 116872, Memory 13.8 MB\n",
      "country           category\n",
      "city              category\n",
      "lat        string[pyarrow]\n",
      "lon        string[pyarrow]\n",
      "web        string[pyarrow]\n",
      "online     string[pyarrow]\n",
      "dtype: object\n"
     ]
    }
   ],
   "source": [
    "# search endpages of local websites\n",
    "data['webpages'] = data.progress_apply(\n",
    "    lambda row:get_website_pages(website = row.webroot,year_from = YEAR_FROM,year_to = YEAR_TO),axis = 1)\n",
    "\n",
    "# drop websites that do not have any pages\n",
    "data = data.drop(data.loc[data.webpages.isna()].index)\n",
    "\n",
    "# drop non-local websites; empirically defined\n",
    "# to have more than 100 archived pages/year\n",
    "todrop = data.loc[data.webpages.apply(len) > geoweb_page_limit]\n",
    "data = data.drop(todrop.index)\n",
    "\n",
    "if len(data) == 0:\n",
    "    raise UserWarning('No website pages found. Check REST API service or change options.')\n",
    "\n",
    "data = data.explode('webpages',ignore_index=True).rename(columns = {'webpages':'webpage'})\n",
    "data = pd.concat([data,pd.json_normalize(data.webpage)],axis = 1)\n",
    "data.pop('webpage'); data.pop('webroot')\n",
    "data = data.drop(data.loc[data.web.isna()].index)\n",
    "\n",
    "# memory\n",
    "data.web = data.web.astype(pd.StringDtype('pyarrow'))\n",
    "data.online = data.online.astype(pd.StringDtype('pyarrow'))\n",
    "\n",
    "frame_info(data)"
   ]
  },
  {
   "cell_type": "code",
   "execution_count": 21,
   "metadata": {
    "cell_id": "a31ee1a2fb3a4b1a9336b49fad3a398e",
    "deepnote_cell_type": "code",
    "deepnote_table_invalid": false,
    "deepnote_table_loading": false,
    "deepnote_table_state": {
     "filters": [],
     "pageIndex": 0,
     "pageSize": 10,
     "sortBy": []
    },
    "deepnote_to_be_reexecuted": false,
    "execution_millis": 614009,
    "execution_start": 1688035315223,
    "output_cleared": false,
    "source_hash": "b6f0090a"
   },
   "outputs": [
    {
     "name": "stdout",
     "output_type": "stream",
     "text": [
      "679\n"
     ]
    },
    {
     "data": {
      "text/html": [
       "<div>\n",
       "<style scoped>\n",
       "    .dataframe tbody tr th:only-of-type {\n",
       "        vertical-align: middle;\n",
       "    }\n",
       "\n",
       "    .dataframe tbody tr th {\n",
       "        vertical-align: top;\n",
       "    }\n",
       "\n",
       "    .dataframe thead th {\n",
       "        text-align: right;\n",
       "    }\n",
       "</style>\n",
       "<table border=\"1\" class=\"dataframe\">\n",
       "  <thead>\n",
       "    <tr style=\"text-align: right;\">\n",
       "      <th></th>\n",
       "      <th>country</th>\n",
       "      <th>city</th>\n",
       "      <th>lat</th>\n",
       "      <th>lon</th>\n",
       "      <th>web</th>\n",
       "      <th>online</th>\n",
       "    </tr>\n",
       "  </thead>\n",
       "  <tbody>\n",
       "    <tr>\n",
       "      <th>62794</th>\n",
       "      <td>CZ</td>\n",
       "      <td>Brno</td>\n",
       "      <td>49.2178324</td>\n",
       "      <td>16.5539929</td>\n",
       "      <td>https://andini.cz/cs?utm_source=foodinc.gsclou...</td>\n",
       "      <td>20230610073033</td>\n",
       "    </tr>\n",
       "    <tr>\n",
       "      <th>1777</th>\n",
       "      <td>CZ</td>\n",
       "      <td>Prague</td>\n",
       "      <td>50.0841232</td>\n",
       "      <td>14.4493450</td>\n",
       "      <td>https://www.barberstreet.cz/ru/pansky-strih</td>\n",
       "      <td>20240518034229</td>\n",
       "    </tr>\n",
       "    <tr>\n",
       "      <th>30725</th>\n",
       "      <td>CZ</td>\n",
       "      <td>Prague</td>\n",
       "      <td>50.0793584</td>\n",
       "      <td>14.4271346</td>\n",
       "      <td>https://dream-hostels.com/khmelnytskyi/</td>\n",
       "      <td>20230205205232</td>\n",
       "    </tr>\n",
       "    <tr>\n",
       "      <th>41621</th>\n",
       "      <td>CZ</td>\n",
       "      <td>Prague</td>\n",
       "      <td>50.0918296</td>\n",
       "      <td>14.4528268</td>\n",
       "      <td>https://bimart.cz/Produkt/fjk-olej-olivovy-ext...</td>\n",
       "      <td>20230414014814</td>\n",
       "    </tr>\n",
       "    <tr>\n",
       "      <th>73647</th>\n",
       "      <td>CZ</td>\n",
       "      <td>Pilsen</td>\n",
       "      <td>49.7782128</td>\n",
       "      <td>13.3703559</td>\n",
       "      <td>http://tvsluzba.eu/</td>\n",
       "      <td>20230605053854</td>\n",
       "    </tr>\n",
       "  </tbody>\n",
       "</table>\n",
       "</div>"
      ],
      "text/plain": [
       "      country    city         lat         lon  \\\n",
       "62794      CZ    Brno  49.2178324  16.5539929   \n",
       "1777       CZ  Prague  50.0841232  14.4493450   \n",
       "30725      CZ  Prague  50.0793584  14.4271346   \n",
       "41621      CZ  Prague  50.0918296  14.4528268   \n",
       "73647      CZ  Pilsen  49.7782128  13.3703559   \n",
       "\n",
       "                                                     web          online  \n",
       "62794  https://andini.cz/cs?utm_source=foodinc.gsclou...  20230610073033  \n",
       "1777         https://www.barberstreet.cz/ru/pansky-strih  20240518034229  \n",
       "30725            https://dream-hostels.com/khmelnytskyi/  20230205205232  \n",
       "41621  https://bimart.cz/Produkt/fjk-olej-olivovy-ext...  20230414014814  \n",
       "73647                                http://tvsluzba.eu/  20230605053854  "
      ]
     },
     "metadata": {},
     "output_type": "display_data"
    },
    {
     "name": "stdout",
     "output_type": "stream",
     "text": [
      "Size 116193, Memory 14.7 MB\n",
      "country           category\n",
      "city              category\n",
      "lat        string[pyarrow]\n",
      "lon        string[pyarrow]\n",
      "web        string[pyarrow]\n",
      "online     string[pyarrow]\n",
      "dtype: object\n"
     ]
    }
   ],
   "source": [
    "# drop excluded webpages\n",
    "pattern = '|'.join([re.escape(page) for page in exclude_pages])\n",
    "todrop = data.loc[data.web.str.contains(pattern,regex=True)]\n",
    "print(len(todrop))\n",
    "data = data.drop(todrop.index)\n",
    "\n",
    "if len(data) == 0:\n",
    "    raise UserWarning('No website pages found. Check REST API service or change options.')\n",
    "\n",
    "frame_info(data)"
   ]
  },
  {
   "cell_type": "code",
   "execution_count": 22,
   "metadata": {},
   "outputs": [
    {
     "name": "stdout",
     "output_type": "stream",
     "text": [
      "100%|███████████████████████████████████████████████████| 116193/116193 [00:00<00:00, 959372.51it/s]\n"
     ]
    },
    {
     "data": {
      "text/html": [
       "<div>\n",
       "<style scoped>\n",
       "    .dataframe tbody tr th:only-of-type {\n",
       "        vertical-align: middle;\n",
       "    }\n",
       "\n",
       "    .dataframe tbody tr th {\n",
       "        vertical-align: top;\n",
       "    }\n",
       "\n",
       "    .dataframe thead th {\n",
       "        text-align: right;\n",
       "    }\n",
       "</style>\n",
       "<table border=\"1\" class=\"dataframe\">\n",
       "  <thead>\n",
       "    <tr style=\"text-align: right;\">\n",
       "      <th></th>\n",
       "      <th>country</th>\n",
       "      <th>city</th>\n",
       "      <th>lat</th>\n",
       "      <th>lon</th>\n",
       "      <th>web</th>\n",
       "      <th>online</th>\n",
       "      <th>webroot</th>\n",
       "    </tr>\n",
       "  </thead>\n",
       "  <tbody>\n",
       "    <tr>\n",
       "      <th>32262</th>\n",
       "      <td>CZ</td>\n",
       "      <td>Prague</td>\n",
       "      <td>50.0803207</td>\n",
       "      <td>14.4183208</td>\n",
       "      <td>http://antik-kant.cz/index.php/cs/sports-outdo...</td>\n",
       "      <td>20230323112718</td>\n",
       "      <td>antik-kant.cz</td>\n",
       "    </tr>\n",
       "    <tr>\n",
       "      <th>21658</th>\n",
       "      <td>CZ</td>\n",
       "      <td>Prague</td>\n",
       "      <td>50.1098012</td>\n",
       "      <td>14.5411443</td>\n",
       "      <td>http://www.athoz.cz/barmanskykurz/</td>\n",
       "      <td>20231204025442</td>\n",
       "      <td>athoz.cz</td>\n",
       "    </tr>\n",
       "    <tr>\n",
       "      <th>32144</th>\n",
       "      <td>CZ</td>\n",
       "      <td>Prague</td>\n",
       "      <td>50.0313967</td>\n",
       "      <td>14.5979964</td>\n",
       "      <td>https://mudrjitkahavlova.cz/.well-known/gpc.json</td>\n",
       "      <td>20240117052816</td>\n",
       "      <td>mudrjitkahavlova.cz</td>\n",
       "    </tr>\n",
       "    <tr>\n",
       "      <th>17020</th>\n",
       "      <td>CZ</td>\n",
       "      <td>Prague</td>\n",
       "      <td>50.0998998</td>\n",
       "      <td>14.4253366</td>\n",
       "      <td>https://merhautovo.cz/bochnik-novinek/bochnik-...</td>\n",
       "      <td>20230203100513</td>\n",
       "      <td>merhautovo.cz</td>\n",
       "    </tr>\n",
       "    <tr>\n",
       "      <th>79557</th>\n",
       "      <td>CZ</td>\n",
       "      <td>Olomouc</td>\n",
       "      <td>49.5973956</td>\n",
       "      <td>17.2401925</td>\n",
       "      <td>https://skolkausila.cz/op-jaki/</td>\n",
       "      <td>20231202213113</td>\n",
       "      <td>skolkausila.cz</td>\n",
       "    </tr>\n",
       "  </tbody>\n",
       "</table>\n",
       "</div>"
      ],
      "text/plain": [
       "      country     city         lat         lon  \\\n",
       "32262      CZ   Prague  50.0803207  14.4183208   \n",
       "21658      CZ   Prague  50.1098012  14.5411443   \n",
       "32144      CZ   Prague  50.0313967  14.5979964   \n",
       "17020      CZ   Prague  50.0998998  14.4253366   \n",
       "79557      CZ  Olomouc  49.5973956  17.2401925   \n",
       "\n",
       "                                                     web          online  \\\n",
       "32262  http://antik-kant.cz/index.php/cs/sports-outdo...  20230323112718   \n",
       "21658                 http://www.athoz.cz/barmanskykurz/  20231204025442   \n",
       "32144   https://mudrjitkahavlova.cz/.well-known/gpc.json  20240117052816   \n",
       "17020  https://merhautovo.cz/bochnik-novinek/bochnik-...  20230203100513   \n",
       "79557                    https://skolkausila.cz/op-jaki/  20231202213113   \n",
       "\n",
       "                   webroot  \n",
       "32262        antik-kant.cz  \n",
       "21658             athoz.cz  \n",
       "32144  mudrjitkahavlova.cz  \n",
       "17020        merhautovo.cz  \n",
       "79557       skolkausila.cz  "
      ]
     },
     "metadata": {},
     "output_type": "display_data"
    },
    {
     "name": "stdout",
     "output_type": "stream",
     "text": [
      "Size 112765, Memory 21.4 MB\n",
      "country           category\n",
      "city              category\n",
      "lat        string[pyarrow]\n",
      "lon        string[pyarrow]\n",
      "web        string[pyarrow]\n",
      "online     string[pyarrow]\n",
      "webroot             object\n",
      "dtype: object\n"
     ]
    }
   ],
   "source": [
    "# drop invalid websites with a few pages\n",
    "data['webroot'] = data.web.progress_apply(lambda x: parse_url(x)['root'])\n",
    "\n",
    "counts = data.webroot.value_counts()\n",
    "webroots = set(counts.loc[counts <= 5].index)\n",
    "todrop = data.loc[data.webroot.isin(webroots)]\n",
    "data = data.drop(todrop.index)\n",
    "#data.webroot.value_counts()\n",
    "frame_info(data)"
   ]
  },
  {
   "cell_type": "markdown",
   "metadata": {
    "cell_id": "0f095291bf774a71873a6cdd6a214060",
    "deepnote_cell_type": "markdown"
   },
   "source": [
    "# Data store"
   ]
  },
  {
   "cell_type": "code",
   "execution_count": 23,
   "metadata": {},
   "outputs": [
    {
     "data": {
      "text/html": [
       "<div>\n",
       "<style scoped>\n",
       "    .dataframe tbody tr th:only-of-type {\n",
       "        vertical-align: middle;\n",
       "    }\n",
       "\n",
       "    .dataframe tbody tr th {\n",
       "        vertical-align: top;\n",
       "    }\n",
       "\n",
       "    .dataframe thead th {\n",
       "        text-align: right;\n",
       "    }\n",
       "</style>\n",
       "<table border=\"1\" class=\"dataframe\">\n",
       "  <thead>\n",
       "    <tr style=\"text-align: right;\">\n",
       "      <th></th>\n",
       "      <th>web</th>\n",
       "      <th>lat</th>\n",
       "      <th>lon</th>\n",
       "      <th>city</th>\n",
       "      <th>country</th>\n",
       "      <th>online</th>\n",
       "    </tr>\n",
       "  </thead>\n",
       "  <tbody>\n",
       "    <tr>\n",
       "      <th>75983</th>\n",
       "      <td>https://www.real-escape-liberec.com/p/darkovy-...</td>\n",
       "      <td>50.7407339</td>\n",
       "      <td>15.0880697</td>\n",
       "      <td>Liberec</td>\n",
       "      <td>CZ</td>\n",
       "      <td>20230129050142</td>\n",
       "    </tr>\n",
       "    <tr>\n",
       "      <th>62069</th>\n",
       "      <td>https://pivokos.cz/wp-login.php?redirect_to=ht...</td>\n",
       "      <td>49.2084977</td>\n",
       "      <td>16.6025673</td>\n",
       "      <td>Brno</td>\n",
       "      <td>CZ</td>\n",
       "      <td>20230628135907</td>\n",
       "    </tr>\n",
       "    <tr>\n",
       "      <th>115306</th>\n",
       "      <td>https://www.sport-jicin.cz/gdpr</td>\n",
       "      <td>50.4393900</td>\n",
       "      <td>15.3482222</td>\n",
       "      <td>Jičín</td>\n",
       "      <td>CZ</td>\n",
       "      <td>20230206173936</td>\n",
       "    </tr>\n",
       "    <tr>\n",
       "      <th>79012</th>\n",
       "      <td>https://cova.cz/cz/blog/test</td>\n",
       "      <td>49.5875936</td>\n",
       "      <td>17.2853575</td>\n",
       "      <td>Olomouc</td>\n",
       "      <td>CZ</td>\n",
       "      <td>20240226081436</td>\n",
       "    </tr>\n",
       "    <tr>\n",
       "      <th>46609</th>\n",
       "      <td>https://www.ms-albrechticka.cz/profil/katerina...</td>\n",
       "      <td>50.1336540</td>\n",
       "      <td>14.5448869</td>\n",
       "      <td>Prague</td>\n",
       "      <td>CZ</td>\n",
       "      <td>20230930182645</td>\n",
       "    </tr>\n",
       "  </tbody>\n",
       "</table>\n",
       "</div>"
      ],
      "text/plain": [
       "                                                      web         lat  \\\n",
       "75983   https://www.real-escape-liberec.com/p/darkovy-...  50.7407339   \n",
       "62069   https://pivokos.cz/wp-login.php?redirect_to=ht...  49.2084977   \n",
       "115306                    https://www.sport-jicin.cz/gdpr  50.4393900   \n",
       "79012                        https://cova.cz/cz/blog/test  49.5875936   \n",
       "46609   https://www.ms-albrechticka.cz/profil/katerina...  50.1336540   \n",
       "\n",
       "               lon     city country          online  \n",
       "75983   15.0880697  Liberec      CZ  20230129050142  \n",
       "62069   16.6025673     Brno      CZ  20230628135907  \n",
       "115306  15.3482222    Jičín      CZ  20230206173936  \n",
       "79012   17.2853575  Olomouc      CZ  20240226081436  \n",
       "46609   14.5448869   Prague      CZ  20230930182645  "
      ]
     },
     "metadata": {},
     "output_type": "display_data"
    },
    {
     "name": "stdout",
     "output_type": "stream",
     "text": [
      "Size 112765, Memory 14.3 MB\n",
      "web        string[pyarrow]\n",
      "lat        string[pyarrow]\n",
      "lon        string[pyarrow]\n",
      "city              category\n",
      "country           category\n",
      "online     string[pyarrow]\n",
      "dtype: object\n"
     ]
    }
   ],
   "source": [
    "# reorder columns\n",
    "data = data[['web','lat','lon','city','country','online']]\n",
    "data = data.sort_values(by='city')\n",
    "data.to_parquet(f'geo-web-results/geo-web-{COUNTRY}.parquet',index=False)\n",
    "frame_info(data)"
   ]
  }
 ],
 "metadata": {
  "deepnote": {},
  "deepnote_execution_queue": [],
  "deepnote_full_width": true,
  "deepnote_notebook_id": "bd3b278c9e474d68a593642279178d06",
  "kernelspec": {
   "display_name": "Python 3 (ipykernel)",
   "language": "python",
   "name": "python3"
  },
  "language_info": {
   "codemirror_mode": {
    "name": "ipython",
    "version": 3
   },
   "file_extension": ".py",
   "mimetype": "text/x-python",
   "name": "python",
   "nbconvert_exporter": "python",
   "pygments_lexer": "ipython3",
   "version": "3.12.4"
  }
 },
 "nbformat": 4,
 "nbformat_minor": 4
}
